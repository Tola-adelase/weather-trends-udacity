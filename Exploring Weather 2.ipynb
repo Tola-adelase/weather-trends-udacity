{
 "cells": [
  {
   "cell_type": "code",
   "execution_count": 1,
   "metadata": {},
   "outputs": [],
   "source": [
    "# Importing libraries and Setting Dislplay Options\n",
    "import pandas as pd\n",
    "import numpy as np\n",
    "import matplotlib.pyplot as plt"
   ]
  },
  {
   "cell_type": "code",
   "execution_count": 2,
   "metadata": {},
   "outputs": [],
   "source": [
    "global_data = pd.read_csv('/home/axe_rhitta/Weather/global_data.csv')\n",
    "local_data = pd.read_csv('/home/axe_rhitta/Weather/London.csv')"
   ]
  },
  {
   "cell_type": "code",
   "execution_count": 3,
   "metadata": {},
   "outputs": [
    {
     "data": {
      "text/html": [
       "<div>\n",
       "<style scoped>\n",
       "    .dataframe tbody tr th:only-of-type {\n",
       "        vertical-align: middle;\n",
       "    }\n",
       "\n",
       "    .dataframe tbody tr th {\n",
       "        vertical-align: top;\n",
       "    }\n",
       "\n",
       "    .dataframe thead th {\n",
       "        text-align: right;\n",
       "    }\n",
       "</style>\n",
       "<table border=\"1\" class=\"dataframe\">\n",
       "  <thead>\n",
       "    <tr style=\"text-align: right;\">\n",
       "      <th></th>\n",
       "      <th>year</th>\n",
       "      <th>avg_temp</th>\n",
       "    </tr>\n",
       "  </thead>\n",
       "  <tbody>\n",
       "    <tr>\n",
       "      <th>0</th>\n",
       "      <td>1750</td>\n",
       "      <td>8.72</td>\n",
       "    </tr>\n",
       "    <tr>\n",
       "      <th>1</th>\n",
       "      <td>1751</td>\n",
       "      <td>7.98</td>\n",
       "    </tr>\n",
       "    <tr>\n",
       "      <th>2</th>\n",
       "      <td>1752</td>\n",
       "      <td>5.78</td>\n",
       "    </tr>\n",
       "    <tr>\n",
       "      <th>3</th>\n",
       "      <td>1753</td>\n",
       "      <td>8.39</td>\n",
       "    </tr>\n",
       "    <tr>\n",
       "      <th>4</th>\n",
       "      <td>1754</td>\n",
       "      <td>8.47</td>\n",
       "    </tr>\n",
       "    <tr>\n",
       "      <th>...</th>\n",
       "      <td>...</td>\n",
       "      <td>...</td>\n",
       "    </tr>\n",
       "    <tr>\n",
       "      <th>261</th>\n",
       "      <td>2011</td>\n",
       "      <td>9.52</td>\n",
       "    </tr>\n",
       "    <tr>\n",
       "      <th>262</th>\n",
       "      <td>2012</td>\n",
       "      <td>9.51</td>\n",
       "    </tr>\n",
       "    <tr>\n",
       "      <th>263</th>\n",
       "      <td>2013</td>\n",
       "      <td>9.61</td>\n",
       "    </tr>\n",
       "    <tr>\n",
       "      <th>264</th>\n",
       "      <td>2014</td>\n",
       "      <td>9.57</td>\n",
       "    </tr>\n",
       "    <tr>\n",
       "      <th>265</th>\n",
       "      <td>2015</td>\n",
       "      <td>9.83</td>\n",
       "    </tr>\n",
       "  </tbody>\n",
       "</table>\n",
       "<p>266 rows × 2 columns</p>\n",
       "</div>"
      ],
      "text/plain": [
       "     year  avg_temp\n",
       "0    1750      8.72\n",
       "1    1751      7.98\n",
       "2    1752      5.78\n",
       "3    1753      8.39\n",
       "4    1754      8.47\n",
       "..    ...       ...\n",
       "261  2011      9.52\n",
       "262  2012      9.51\n",
       "263  2013      9.61\n",
       "264  2014      9.57\n",
       "265  2015      9.83\n",
       "\n",
       "[266 rows x 2 columns]"
      ]
     },
     "execution_count": 3,
     "metadata": {},
     "output_type": "execute_result"
    }
   ],
   "source": [
    "global_data"
   ]
  },
  {
   "cell_type": "code",
   "execution_count": 4,
   "metadata": {},
   "outputs": [
    {
     "data": {
      "text/html": [
       "<div>\n",
       "<style scoped>\n",
       "    .dataframe tbody tr th:only-of-type {\n",
       "        vertical-align: middle;\n",
       "    }\n",
       "\n",
       "    .dataframe tbody tr th {\n",
       "        vertical-align: top;\n",
       "    }\n",
       "\n",
       "    .dataframe thead th {\n",
       "        text-align: right;\n",
       "    }\n",
       "</style>\n",
       "<table border=\"1\" class=\"dataframe\">\n",
       "  <thead>\n",
       "    <tr style=\"text-align: right;\">\n",
       "      <th></th>\n",
       "      <th>year</th>\n",
       "      <th>avg_temp</th>\n",
       "    </tr>\n",
       "  </thead>\n",
       "  <tbody>\n",
       "    <tr>\n",
       "      <th>0</th>\n",
       "      <td>1743</td>\n",
       "      <td>7.54</td>\n",
       "    </tr>\n",
       "    <tr>\n",
       "      <th>1</th>\n",
       "      <td>1744</td>\n",
       "      <td>10.34</td>\n",
       "    </tr>\n",
       "    <tr>\n",
       "      <th>2</th>\n",
       "      <td>1745</td>\n",
       "      <td>4.13</td>\n",
       "    </tr>\n",
       "    <tr>\n",
       "      <th>3</th>\n",
       "      <td>1746</td>\n",
       "      <td>NaN</td>\n",
       "    </tr>\n",
       "    <tr>\n",
       "      <th>4</th>\n",
       "      <td>1747</td>\n",
       "      <td>NaN</td>\n",
       "    </tr>\n",
       "    <tr>\n",
       "      <th>...</th>\n",
       "      <td>...</td>\n",
       "      <td>...</td>\n",
       "    </tr>\n",
       "    <tr>\n",
       "      <th>266</th>\n",
       "      <td>2009</td>\n",
       "      <td>10.52</td>\n",
       "    </tr>\n",
       "    <tr>\n",
       "      <th>267</th>\n",
       "      <td>2010</td>\n",
       "      <td>9.38</td>\n",
       "    </tr>\n",
       "    <tr>\n",
       "      <th>268</th>\n",
       "      <td>2011</td>\n",
       "      <td>11.19</td>\n",
       "    </tr>\n",
       "    <tr>\n",
       "      <th>269</th>\n",
       "      <td>2012</td>\n",
       "      <td>10.00</td>\n",
       "    </tr>\n",
       "    <tr>\n",
       "      <th>270</th>\n",
       "      <td>2013</td>\n",
       "      <td>9.91</td>\n",
       "    </tr>\n",
       "  </tbody>\n",
       "</table>\n",
       "<p>271 rows × 2 columns</p>\n",
       "</div>"
      ],
      "text/plain": [
       "     year  avg_temp\n",
       "0    1743      7.54\n",
       "1    1744     10.34\n",
       "2    1745      4.13\n",
       "3    1746       NaN\n",
       "4    1747       NaN\n",
       "..    ...       ...\n",
       "266  2009     10.52\n",
       "267  2010      9.38\n",
       "268  2011     11.19\n",
       "269  2012     10.00\n",
       "270  2013      9.91\n",
       "\n",
       "[271 rows x 2 columns]"
      ]
     },
     "execution_count": 4,
     "metadata": {},
     "output_type": "execute_result"
    }
   ],
   "source": [
    "local_data"
   ]
  },
  {
   "cell_type": "code",
   "execution_count": 5,
   "metadata": {},
   "outputs": [],
   "source": [
    "global_data['global_MA'] = global_data['avg_temp'].rolling(window=20).mean()"
   ]
  },
  {
   "cell_type": "code",
   "execution_count": 6,
   "metadata": {},
   "outputs": [],
   "source": [
    "global_data['Average']= global_data['avg_temp'].mean()"
   ]
  },
  {
   "cell_type": "code",
   "execution_count": 7,
   "metadata": {},
   "outputs": [],
   "source": [
    "global_data['Average_MA']= global_data['global_MA'].mean()"
   ]
  },
  {
   "cell_type": "code",
   "execution_count": 8,
   "metadata": {},
   "outputs": [
    {
     "data": {
      "text/html": [
       "<div>\n",
       "<style scoped>\n",
       "    .dataframe tbody tr th:only-of-type {\n",
       "        vertical-align: middle;\n",
       "    }\n",
       "\n",
       "    .dataframe tbody tr th {\n",
       "        vertical-align: top;\n",
       "    }\n",
       "\n",
       "    .dataframe thead th {\n",
       "        text-align: right;\n",
       "    }\n",
       "</style>\n",
       "<table border=\"1\" class=\"dataframe\">\n",
       "  <thead>\n",
       "    <tr style=\"text-align: right;\">\n",
       "      <th></th>\n",
       "      <th>year</th>\n",
       "      <th>avg_temp</th>\n",
       "      <th>global_MA</th>\n",
       "      <th>Average</th>\n",
       "      <th>Average_MA</th>\n",
       "    </tr>\n",
       "  </thead>\n",
       "  <tbody>\n",
       "    <tr>\n",
       "      <th>0</th>\n",
       "      <td>1750</td>\n",
       "      <td>8.72</td>\n",
       "      <td>NaN</td>\n",
       "      <td>8.369474</td>\n",
       "      <td>8.336142</td>\n",
       "    </tr>\n",
       "    <tr>\n",
       "      <th>1</th>\n",
       "      <td>1751</td>\n",
       "      <td>7.98</td>\n",
       "      <td>NaN</td>\n",
       "      <td>8.369474</td>\n",
       "      <td>8.336142</td>\n",
       "    </tr>\n",
       "    <tr>\n",
       "      <th>2</th>\n",
       "      <td>1752</td>\n",
       "      <td>5.78</td>\n",
       "      <td>NaN</td>\n",
       "      <td>8.369474</td>\n",
       "      <td>8.336142</td>\n",
       "    </tr>\n",
       "    <tr>\n",
       "      <th>3</th>\n",
       "      <td>1753</td>\n",
       "      <td>8.39</td>\n",
       "      <td>NaN</td>\n",
       "      <td>8.369474</td>\n",
       "      <td>8.336142</td>\n",
       "    </tr>\n",
       "    <tr>\n",
       "      <th>4</th>\n",
       "      <td>1754</td>\n",
       "      <td>8.47</td>\n",
       "      <td>NaN</td>\n",
       "      <td>8.369474</td>\n",
       "      <td>8.336142</td>\n",
       "    </tr>\n",
       "    <tr>\n",
       "      <th>...</th>\n",
       "      <td>...</td>\n",
       "      <td>...</td>\n",
       "      <td>...</td>\n",
       "      <td>...</td>\n",
       "      <td>...</td>\n",
       "    </tr>\n",
       "    <tr>\n",
       "      <th>261</th>\n",
       "      <td>2011</td>\n",
       "      <td>9.52</td>\n",
       "      <td>9.3650</td>\n",
       "      <td>8.369474</td>\n",
       "      <td>8.336142</td>\n",
       "    </tr>\n",
       "    <tr>\n",
       "      <th>262</th>\n",
       "      <td>2012</td>\n",
       "      <td>9.51</td>\n",
       "      <td>9.3985</td>\n",
       "      <td>8.369474</td>\n",
       "      <td>8.336142</td>\n",
       "    </tr>\n",
       "    <tr>\n",
       "      <th>263</th>\n",
       "      <td>2013</td>\n",
       "      <td>9.61</td>\n",
       "      <td>9.4355</td>\n",
       "      <td>8.369474</td>\n",
       "      <td>8.336142</td>\n",
       "    </tr>\n",
       "    <tr>\n",
       "      <th>264</th>\n",
       "      <td>2014</td>\n",
       "      <td>9.57</td>\n",
       "      <td>9.4620</td>\n",
       "      <td>8.369474</td>\n",
       "      <td>8.336142</td>\n",
       "    </tr>\n",
       "    <tr>\n",
       "      <th>265</th>\n",
       "      <td>2015</td>\n",
       "      <td>9.83</td>\n",
       "      <td>9.4860</td>\n",
       "      <td>8.369474</td>\n",
       "      <td>8.336142</td>\n",
       "    </tr>\n",
       "  </tbody>\n",
       "</table>\n",
       "<p>266 rows × 5 columns</p>\n",
       "</div>"
      ],
      "text/plain": [
       "     year  avg_temp  global_MA   Average  Average_MA\n",
       "0    1750      8.72        NaN  8.369474    8.336142\n",
       "1    1751      7.98        NaN  8.369474    8.336142\n",
       "2    1752      5.78        NaN  8.369474    8.336142\n",
       "3    1753      8.39        NaN  8.369474    8.336142\n",
       "4    1754      8.47        NaN  8.369474    8.336142\n",
       "..    ...       ...        ...       ...         ...\n",
       "261  2011      9.52     9.3650  8.369474    8.336142\n",
       "262  2012      9.51     9.3985  8.369474    8.336142\n",
       "263  2013      9.61     9.4355  8.369474    8.336142\n",
       "264  2014      9.57     9.4620  8.369474    8.336142\n",
       "265  2015      9.83     9.4860  8.369474    8.336142\n",
       "\n",
       "[266 rows x 5 columns]"
      ]
     },
     "execution_count": 8,
     "metadata": {},
     "output_type": "execute_result"
    }
   ],
   "source": [
    "global_data"
   ]
  },
  {
   "cell_type": "code",
   "execution_count": 9,
   "metadata": {},
   "outputs": [],
   "source": [
    "local_data['local_MA'] = local_data['avg_temp'].rolling(window=20).mean()"
   ]
  },
  {
   "cell_type": "code",
   "execution_count": 10,
   "metadata": {},
   "outputs": [],
   "source": [
    "local_data['Average'] = local_data['avg_temp'].mean()"
   ]
  },
  {
   "cell_type": "code",
   "execution_count": 11,
   "metadata": {},
   "outputs": [],
   "source": [
    "local_data['Average_MA'] = local_data['local_MA'].mean()"
   ]
  },
  {
   "cell_type": "code",
   "execution_count": 12,
   "metadata": {},
   "outputs": [
    {
     "data": {
      "text/html": [
       "<div>\n",
       "<style scoped>\n",
       "    .dataframe tbody tr th:only-of-type {\n",
       "        vertical-align: middle;\n",
       "    }\n",
       "\n",
       "    .dataframe tbody tr th {\n",
       "        vertical-align: top;\n",
       "    }\n",
       "\n",
       "    .dataframe thead th {\n",
       "        text-align: right;\n",
       "    }\n",
       "</style>\n",
       "<table border=\"1\" class=\"dataframe\">\n",
       "  <thead>\n",
       "    <tr style=\"text-align: right;\">\n",
       "      <th></th>\n",
       "      <th>year</th>\n",
       "      <th>avg_temp</th>\n",
       "      <th>local_MA</th>\n",
       "      <th>Average</th>\n",
       "      <th>Average_MA</th>\n",
       "    </tr>\n",
       "  </thead>\n",
       "  <tbody>\n",
       "    <tr>\n",
       "      <th>0</th>\n",
       "      <td>1743</td>\n",
       "      <td>7.54</td>\n",
       "      <td>NaN</td>\n",
       "      <td>9.43588</td>\n",
       "      <td>9.432543</td>\n",
       "    </tr>\n",
       "    <tr>\n",
       "      <th>1</th>\n",
       "      <td>1744</td>\n",
       "      <td>10.34</td>\n",
       "      <td>NaN</td>\n",
       "      <td>9.43588</td>\n",
       "      <td>9.432543</td>\n",
       "    </tr>\n",
       "    <tr>\n",
       "      <th>2</th>\n",
       "      <td>1745</td>\n",
       "      <td>4.13</td>\n",
       "      <td>NaN</td>\n",
       "      <td>9.43588</td>\n",
       "      <td>9.432543</td>\n",
       "    </tr>\n",
       "    <tr>\n",
       "      <th>3</th>\n",
       "      <td>1746</td>\n",
       "      <td>NaN</td>\n",
       "      <td>NaN</td>\n",
       "      <td>9.43588</td>\n",
       "      <td>9.432543</td>\n",
       "    </tr>\n",
       "    <tr>\n",
       "      <th>4</th>\n",
       "      <td>1747</td>\n",
       "      <td>NaN</td>\n",
       "      <td>NaN</td>\n",
       "      <td>9.43588</td>\n",
       "      <td>9.432543</td>\n",
       "    </tr>\n",
       "    <tr>\n",
       "      <th>...</th>\n",
       "      <td>...</td>\n",
       "      <td>...</td>\n",
       "      <td>...</td>\n",
       "      <td>...</td>\n",
       "      <td>...</td>\n",
       "    </tr>\n",
       "    <tr>\n",
       "      <th>266</th>\n",
       "      <td>2009</td>\n",
       "      <td>10.52</td>\n",
       "      <td>10.4650</td>\n",
       "      <td>9.43588</td>\n",
       "      <td>9.432543</td>\n",
       "    </tr>\n",
       "    <tr>\n",
       "      <th>267</th>\n",
       "      <td>2010</td>\n",
       "      <td>9.38</td>\n",
       "      <td>10.3870</td>\n",
       "      <td>9.43588</td>\n",
       "      <td>9.432543</td>\n",
       "    </tr>\n",
       "    <tr>\n",
       "      <th>268</th>\n",
       "      <td>2011</td>\n",
       "      <td>11.19</td>\n",
       "      <td>10.4630</td>\n",
       "      <td>9.43588</td>\n",
       "      <td>9.432543</td>\n",
       "    </tr>\n",
       "    <tr>\n",
       "      <th>269</th>\n",
       "      <td>2012</td>\n",
       "      <td>10.00</td>\n",
       "      <td>10.4555</td>\n",
       "      <td>9.43588</td>\n",
       "      <td>9.432543</td>\n",
       "    </tr>\n",
       "    <tr>\n",
       "      <th>270</th>\n",
       "      <td>2013</td>\n",
       "      <td>9.91</td>\n",
       "      <td>10.4665</td>\n",
       "      <td>9.43588</td>\n",
       "      <td>9.432543</td>\n",
       "    </tr>\n",
       "  </tbody>\n",
       "</table>\n",
       "<p>271 rows × 5 columns</p>\n",
       "</div>"
      ],
      "text/plain": [
       "     year  avg_temp  local_MA  Average  Average_MA\n",
       "0    1743      7.54       NaN  9.43588    9.432543\n",
       "1    1744     10.34       NaN  9.43588    9.432543\n",
       "2    1745      4.13       NaN  9.43588    9.432543\n",
       "3    1746       NaN       NaN  9.43588    9.432543\n",
       "4    1747       NaN       NaN  9.43588    9.432543\n",
       "..    ...       ...       ...      ...         ...\n",
       "266  2009     10.52   10.4650  9.43588    9.432543\n",
       "267  2010      9.38   10.3870  9.43588    9.432543\n",
       "268  2011     11.19   10.4630  9.43588    9.432543\n",
       "269  2012     10.00   10.4555  9.43588    9.432543\n",
       "270  2013      9.91   10.4665  9.43588    9.432543\n",
       "\n",
       "[271 rows x 5 columns]"
      ]
     },
     "execution_count": 12,
     "metadata": {},
     "output_type": "execute_result"
    }
   ],
   "source": [
    "local_data"
   ]
  },
  {
   "cell_type": "code",
   "execution_count": 13,
   "metadata": {},
   "outputs": [
    {
     "data": {
      "image/png": "[encoded data removed]",
      "text/plain": [
       "<Figure size 432x288 with 1 Axes>"
      ]
     },
     "metadata": {
      "needs_background": "light"
     },
     "output_type": "display_data"
    }
   ],
   "source": [
    "plt.plot(local_data['year'], \n",
    "         local_data['local_MA'], \n",
    "         label='London', color= 'c')\n",
    "plt.plot(global_data['year'], \n",
    "         global_data['global_MA'], \n",
    "         label='Global', color= 'm')\n",
    "plt.legend(loc='upper left')\n",
    "plt.title('Line Chart of Global vs. London Temperature (Moving Average)')\n",
    "plt.xlabel('Year')\n",
    "plt.ylabel('Moving Average Temperature (°C)')\n",
    "plt.show()"
   ]
  },
  {
   "cell_type": "code",
   "execution_count": 14,
   "metadata": {},
   "outputs": [],
   "source": [
    "df1 = global_data.tail(100)\n",
    "df2 = local_data.tail(100)"
   ]
  },
  {
   "cell_type": "code",
   "execution_count": 15,
   "metadata": {},
   "outputs": [
    {
     "data": {
      "image/png": "[encoded data removed]",
      "text/plain": [
       "<Figure size 432x288 with 1 Axes>"
      ]
     },
     "metadata": {
      "needs_background": "light"
     },
     "output_type": "display_data"
    }
   ],
   "source": [
    "plt.plot(df2['year'], \n",
    "         df2['local_MA'], \n",
    "         label='London', color= 'c')\n",
    "plt.plot(df1['year'], \n",
    "         df1['global_MA'], \n",
    "         label='Global', color= 'm')\n",
    "plt.legend(loc='upper left')\n",
    "plt.title('Line Chart of Global vs. London Temperature (Last 100 Years Moving Average) ')\n",
    "plt.xlabel('Year (1914/1916-2015)')\n",
    "plt.ylabel('Moving AverageTemperature (°C)')\n",
    "plt.show()"
   ]
  },
  {
   "cell_type": "code",
   "execution_count": 16,
   "metadata": {},
   "outputs": [],
   "source": [
    "df3 = global_data.tail(50)\n",
    "df4 = local_data.tail(50)"
   ]
  },
  {
   "cell_type": "code",
   "execution_count": 17,
   "metadata": {},
   "outputs": [
    {
     "data": {
      "image/png": "[encoded data removed]",
      "text/plain": [
       "<Figure size 432x288 with 1 Axes>"
      ]
     },
     "metadata": {
      "needs_background": "light"
     },
     "output_type": "display_data"
    }
   ],
   "source": [
    "plt.plot(df4['year'], \n",
    "         df4['local_MA'], \n",
    "         label='London', color= 'c')\n",
    "plt.plot(df3['year'], \n",
    "         df3['global_MA'], \n",
    "         label='Global', color= 'm')\n",
    "plt.legend(loc='upper left')\n",
    "plt.title('Line Chart of Global vs. London Temperature (Last 50 Years Moving Average)')\n",
    "plt.xlabel('Year (1964/1966-2015)')\n",
    "plt.ylabel('Moving Average Temperature (°C)')\n",
    "plt.show()"
   ]
  },
  {
   "cell_type": "code",
   "execution_count": 18,
   "metadata": {},
   "outputs": [],
   "source": [
    "df5 = global_data.tail(10)\n",
    "df6 = local_data.tail(10)"
   ]
  },
  {
   "cell_type": "code",
   "execution_count": 19,
   "metadata": {},
   "outputs": [
    {
     "data": {
      "image/png": "[encoded data removed]",
      "text/plain": [
       "<Figure size 432x288 with 1 Axes>"
      ]
     },
     "metadata": {
      "needs_background": "light"
     },
     "output_type": "display_data"
    }
   ],
   "source": [
    "plt.plot(df6['year'], \n",
    "         df6['local_MA'], \n",
    "         label='London', color= 'c')\n",
    "plt.plot(df5['year'], \n",
    "         df5['global_MA'], \n",
    "         label='Global', color= 'm')\n",
    "plt.legend(loc='upper left')\n",
    "plt.title('Line Chart of Global vs. London Temperature (Last 10 Years Moving Average) ')\n",
    "plt.xlabel('Year (2004/2006-2015)')\n",
    "plt.ylabel('Moving Average Temperature (°C)')\n",
    "plt.show()"
   ]
  },
  {
   "cell_type": "code",
   "execution_count": null,
   "metadata": {},
   "outputs": [],
   "source": []
  }
 ],
 "metadata": {
  "kernelspec": {
   "display_name": "Python 3",
   "language": "python",
   "name": "python3"
  },
  "language_info": {
   "codemirror_mode": {
    "name": "ipython",
    "version": 3
   },
   "file_extension": ".py",
   "mimetype": "text/x-python",
   "name": "python",
   "nbconvert_exporter": "python",
   "pygments_lexer": "ipython3",
   "version": "3.8.10"
  }
 },
 "nbformat": 4,
 "nbformat_minor": 4
}
